{
 "cells": [
  {
   "cell_type": "markdown",
   "id": "dd9072fe-886a-4d4b-9511-ba68f13dc1e3",
   "metadata": {},
   "source": [
    "# Exercise 1\n",
    "#### Name your file: MonthNames.py\n",
    "#### Write a program that reads an integer value between 1 and 12 from the user and prints output the corresponding month of the year.\n",
    "#### An example run of the program (numbers in bold are typed in by the user)\n",
    "#### Enter the month: 3\n",
    "#### Month 3 is March\n"
   ]
  },
  {
   "cell_type": "code",
   "execution_count": 34,
   "id": "767a0d49-a2b4-4c7e-a2e9-59fabb7afe29",
   "metadata": {},
   "outputs": [
    {
     "name": "stdin",
     "output_type": "stream",
     "text": [
      "Enter the number:  5\n"
     ]
    },
    {
     "name": "stdout",
     "output_type": "stream",
     "text": [
      "The month  5  is May\n"
     ]
    }
   ],
   "source": [
    "d={1:\"January\",2:\"February\",3:\"March\",4:\"April\",5:\"May\",6:\"June\",7:\"July\",8:\"August\",9:\"September\",10:\"October\",11:\"November\",12:\"December\"}\n",
    "\n",
    "s=int(input(\"Enter the number: \"))\n",
    "\n",
    "if 1<=s<=12:\n",
    "    a=d.get(s)\n",
    "    print(\"The month \",s,\" is\",a)"
   ]
  },
  {
   "cell_type": "markdown",
   "id": "907f471a-5f3d-4e26-b69b-dcf2fa2eb9f8",
   "metadata": {},
   "source": [
    "# Exercise 2\n",
    "### A certain cinema currently sells tickets for a full price of 6 pounds, but always sells tickets for half price to people who are less than 16 years old, and for a third of the price for people who are 60 years old or more.\n",
    "### An example run of the program (numbers in bold are typed in by the user)\n",
    "#### Enter your age: 63\n",
    "#### Your ticket costs £2.00\n",
    "\n"
   ]
  },
  {
   "cell_type": "code",
   "execution_count": 95,
   "id": "1e4ff248-9b21-4dad-b7d9-20fc8a8843b1",
   "metadata": {},
   "outputs": [
    {
     "name": "stdin",
     "output_type": "stream",
     "text": [
      "Enter your age: 89\n"
     ]
    },
    {
     "name": "stdout",
     "output_type": "stream",
     "text": [
      "Your ticket costs £2.00\n"
     ]
    }
   ],
   "source": [
    "age=int(input(\"Enter your age:\"))\n",
    "t=6\n",
    "if age<16:\n",
    "    ticket=t*(1/2)\n",
    "    print(f\"Your ticket costs £{ticket:.2f}\")\n",
    "elif age>60:\n",
    "    ticket=t*(1/3)\n",
    "    print(f\"Your ticket costs £{ticket:.2f}\")\n",
    "else:\n",
    "    ticket=t\n",
    "    print(f\"Your ticket costs £{ticket:.2f}\")\n"
   ]
  }
 ],
 "metadata": {
  "kernelspec": {
   "display_name": "Python [conda env:base] *",
   "language": "python",
   "name": "conda-base-py"
  },
  "language_info": {
   "codemirror_mode": {
    "name": "ipython",
    "version": 3
   },
   "file_extension": ".py",
   "mimetype": "text/x-python",
   "name": "python",
   "nbconvert_exporter": "python",
   "pygments_lexer": "ipython3",
   "version": "3.12.7"
  }
 },
 "nbformat": 4,
 "nbformat_minor": 5
}
