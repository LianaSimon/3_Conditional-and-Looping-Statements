{
 "cells": [
  {
   "cell_type": "markdown",
   "id": "66750ee5-6a98-4960-bad5-1d33f8861b9a",
   "metadata": {},
   "source": [
    "## Exercise 3\n",
    "#### Name your file: BodyMassIndex.py\n",
    "##### Write a program to calculate your BMI and give weight status. Body Mass Index (BMI) is an internationally used measurement to check if you are a healthy weight for your height.The metric BMI formula accepts weight in kilograms and height in meters:\n",
    "###### BMI= weight(kg)/height2(m2)\n",
    "###### BMI Weight Status Categories table\n",
    "###### BMI range - kg/m2   Category\n",
    "###### Below 18.5                    Underweight\n",
    "###### 18.5 -24.9         Normal\n",
    "###### 25 - 29.9          Overweight\n",
    "###### 30 & Above     Obese\n",
    "###### An example run of the program (numbers in bold are typed in by the user)\n",
    "###### Enter your weight in (kg): 75\n",
    "###### Enter your height in (m): 1.70\n",
    "###### Your BMI is: 25.95\n",
    "###### You are in the “overweight” range."
   ]
  },
  {
   "cell_type": "code",
   "execution_count": 2,
   "id": "d13d0ef5-2550-4364-ab87-6f60eef8b64e",
   "metadata": {},
   "outputs": [
    {
     "name": "stdin",
     "output_type": "stream",
     "text": [
      "Enter your weight in kg : 75\n",
      "Enter your height in m : 1.70\n"
     ]
    },
    {
     "name": "stdout",
     "output_type": "stream",
     "text": [
      "Your BMI is: 25.95\n",
      "You are in overweight range\n"
     ]
    }
   ],
   "source": [
    "w=int(input(\"Enter your weight in kg :\"))\n",
    "h=float(input(\"Enter your height in m :\"))\n",
    "bmi=round(w/(h*h),2)\n",
    "print(\"Your BMI is:\",bmi)\n",
    "if 18.5<=bmi<=24.9:\n",
    "    print(\"You are in normal range\")\n",
    "elif 25<=bmi<=29.9:\n",
    "      print(\"You are in overweight range\")\n",
    "elif bmi<18.5:\n",
    " print(\"You are in underweight range\")\n",
    "else:\n",
    " print(\"You are in obese range\")"
   ]
  },
  {
   "cell_type": "markdown",
   "id": "d81028e8-c0c2-472e-b6f9-0bebad7afd30",
   "metadata": {},
   "source": [
    "### Exercise 4\n",
    "#### Write a Python program to receive 3 numbers from the user and print the greatest among them.\n"
   ]
  },
  {
   "cell_type": "code",
   "execution_count": 9,
   "id": "8a73191d-453b-40ae-861a-644cfa6a1f1f",
   "metadata": {},
   "outputs": [
    {
     "name": "stdin",
     "output_type": "stream",
     "text": [
      "Enter the first number 58\n",
      "Enter the second number 85\n",
      "Enter the third number 36\n"
     ]
    },
    {
     "name": "stdout",
     "output_type": "stream",
     "text": [
      "85 is the greatest number\n"
     ]
    }
   ],
   "source": [
    "n1=int(input(\"Enter the first number\"))\n",
    "n2=int(input(\"Enter the second number\"))\n",
    "n3=int(input(\"Enter the third number\"))\n",
    "\n",
    "if n2<n1>n3:\n",
    "    print(n1,\"is the greatest number\")\n",
    "elif n1<n2>n3:\n",
    "    print(n2,\"is the greatest number\")\n",
    "else:\n",
    "    print(n3,\"is the greatest number\")"
   ]
  },
  {
   "cell_type": "markdown",
   "id": "3aeb2eb7-0910-46cf-9720-bb6d2c1a5f4e",
   "metadata": {},
   "source": [
    "### Exercise 5\n",
    "#### Find the factorial of a given number using loops(note the number is received from the user)\n",
    "\n"
   ]
  },
  {
   "cell_type": "code",
   "execution_count": 50,
   "id": "137704c9-b528-4919-99a9-83c5f29454b0",
   "metadata": {},
   "outputs": [
    {
     "name": "stdin",
     "output_type": "stream",
     "text": [
      "Enter the positive number whose factorial is to be found 6\n"
     ]
    },
    {
     "name": "stdout",
     "output_type": "stream",
     "text": [
      "720\n"
     ]
    }
   ],
   "source": [
    "n=int(input(\"Enter the positive number whose factorial is to be found\"))\n",
    "\n",
    "if n<0:\n",
    "    print(\"Factorial is not defined for negative numbers\")\n",
    "elif n==0:\n",
    "    print(\"Factorial is not defined for zero\")\n",
    "else:\n",
    "    fact=1\n",
    "    i=1\n",
    "    while i<=n:\n",
    "        fact=fact*i\n",
    "        i=i+1\n",
    "     \n",
    "    \n",
    "print (fact)"
   ]
  },
  {
   "cell_type": "markdown",
   "id": "7bfb3e85-a176-410a-bb65-693b4e874ef5",
   "metadata": {},
   "source": [
    "### Exercise 6\n",
    "#### Reverse a number using while loop\n"
   ]
  },
  {
   "cell_type": "code",
   "execution_count": 55,
   "id": "7d7bee33-42c3-4013-a04a-0aedbe9f97bd",
   "metadata": {},
   "outputs": [
    {
     "name": "stdin",
     "output_type": "stream",
     "text": [
      "Enter the number to be reversed 2541\n"
     ]
    },
    {
     "name": "stdout",
     "output_type": "stream",
     "text": [
      "The reverse of 0 is: 1452\n"
     ]
    }
   ],
   "source": [
    "n=int(input(\"Enter the number to be reversed\"))\n",
    "\n",
    "reverse=0\n",
    "while n>0:\n",
    "    digit=n%10\n",
    "    reverse=reverse*10+digit\n",
    "    n//=10\n",
    "\n",
    "print(\"The reverse of\",n,\"is:\",reverse)"
   ]
  },
  {
   "cell_type": "markdown",
   "id": "80f14787-43f8-498e-8a17-d0c122a41961",
   "metadata": {},
   "source": [
    "### Exercise 7\n",
    "#### Finding the multiples of a number using loop\n"
   ]
  },
  {
   "cell_type": "code",
   "execution_count": 74,
   "id": "ef7af1c0-1217-45d1-adba-ed798020d66d",
   "metadata": {},
   "outputs": [
    {
     "name": "stdin",
     "output_type": "stream",
     "text": [
      "Enter the number whose multiple is to be found :  8\n",
      "\n",
      "Enter the count of multiples you may need. The multiples starts by multiplying your entered digit from 1 till the count you may enter :  5\n"
     ]
    },
    {
     "name": "stdout",
     "output_type": "stream",
     "text": [
      "\n",
      "The  5 multiples of the number 8 are:\n",
      "8\n",
      "16\n",
      "24\n",
      "32\n",
      "40\n"
     ]
    }
   ],
   "source": [
    "n=int(input(\"Enter the number whose multiple is to be found : \"))\n",
    "c=int(input(\"\\nEnter the count of multiples you may need. The multiples starts by multiplying your entered digit from 1 till the count you may enter : \"))\n",
    "print(\"\\nThe \",c,\"multiples of the number\",n,\"are:\")\n",
    "\n",
    "for i in range(1,c+1):\n",
    "    multiple=n*i\n",
    "    print(multiple)"
   ]
  },
  {
   "cell_type": "markdown",
   "id": "b469cf2d-80b8-4f13-b4e4-b17af1c9a7f7",
   "metadata": {},
   "source": [
    "### Exercise 8\n",
    "#### Write a program to print the inputted value as it is and break the loop if the value is 'done'.\n",
    "#### Example run of the program\n",
    "#### :hello there\n",
    "#### hello there\n",
    "#### :finished\n",
    "#### finished\n",
    "#### :done\n",
    "#### Done\n"
   ]
  },
  {
   "cell_type": "code",
   "execution_count": 111,
   "id": "6ecc67f4-8278-478b-a383-bcf5248a9ba3",
   "metadata": {},
   "outputs": [
    {
     "name": "stdin",
     "output_type": "stream",
     "text": [
      "Enter the value to be printed:  hello there\n"
     ]
    },
    {
     "name": "stdout",
     "output_type": "stream",
     "text": [
      "hello there\n"
     ]
    },
    {
     "name": "stdin",
     "output_type": "stream",
     "text": [
      "Enter the value to be printed:  finished\n"
     ]
    },
    {
     "name": "stdout",
     "output_type": "stream",
     "text": [
      "finished\n"
     ]
    },
    {
     "name": "stdin",
     "output_type": "stream",
     "text": [
      "Enter the value to be printed:  done\n"
     ]
    },
    {
     "name": "stdout",
     "output_type": "stream",
     "text": [
      "done\n"
     ]
    }
   ],
   "source": [
    "while True:\n",
    "    n=input(\"Enter the value to be printed: \")\n",
    "    \n",
    "    if n==\"done\":\n",
    "        print(n)\n",
    "        break\n",
    "    else:\n",
    "        print(n)"
   ]
  },
  {
   "cell_type": "markdown",
   "id": "0787ad9f-c430-42cd-92b0-d3bac6007c3b",
   "metadata": {},
   "source": [
    "### Exercise 9\n",
    "#### Write a program that prints the numbers from 1 to 10. But for multiples of three print \"Fizz\" instead of the number and for the multiple of five print \"Buzz\". For numbers which are multiples of both three and five print \"FizzBuzz\"\n"
   ]
  },
  {
   "cell_type": "code",
   "execution_count": 150,
   "id": "1491d327-eec6-4bc2-8c9d-31bf0dca25be",
   "metadata": {},
   "outputs": [
    {
     "name": "stdout",
     "output_type": "stream",
     "text": [
      "1\n",
      "2\n",
      "Fizz\n",
      "4\n",
      "Buzz\n",
      "Fizz\n",
      "7\n",
      "8\n",
      "Fizz\n",
      "Buzz\n"
     ]
    }
   ],
   "source": [
    "for n in range(1,11):\n",
    "    if n%3==0:\n",
    "        print(\"Fizz\")\n",
    "    elif n%5==0:\n",
    "        print(\"Buzz\")\n",
    "    elif n%3==0==n%5:\n",
    "        print(\"FizzBuzz\")\n",
    "    else:\n",
    "        print(n)"
   ]
  },
  {
   "cell_type": "markdown",
   "id": "34f63a9a-0176-4916-ba80-6e4202f5fb48",
   "metadata": {},
   "source": [
    "### Exercise 10\n",
    "#### Write a program to print the following pattern:\n",
    "\n",
    "##### 5 4 3 2 1\n",
    "##### 4 3 2 1\n",
    "##### 3 2 1\n",
    "##### 2 1\n",
    "##### 1\n"
   ]
  },
  {
   "cell_type": "code",
   "execution_count": 185,
   "id": "20de4869-4eed-402a-8ade-fb654c03cc0b",
   "metadata": {},
   "outputs": [
    {
     "name": "stdout",
     "output_type": "stream",
     "text": [
      "5 4 3 2 1 \n",
      "\n",
      "4 3 2 1 \n",
      "\n",
      "3 2 1 \n",
      "\n",
      "2 1 \n",
      "\n",
      "1 \n",
      "\n"
     ]
    }
   ],
   "source": [
    "rows=5\n",
    "for i in range(rows,0,-1):\n",
    "    \n",
    "    for j in range(i,0,-1):\n",
    "        print(j,end=\" \")\n",
    "    print(\"\\n\")\n",
    "        \n",
    "\n",
    "\n"
   ]
  },
  {
   "cell_type": "code",
   "execution_count": null,
   "id": "0c0a2814-f343-4e2b-9830-70f6671a939f",
   "metadata": {},
   "outputs": [],
   "source": []
  }
 ],
 "metadata": {
  "kernelspec": {
   "display_name": "Python [conda env:base] *",
   "language": "python",
   "name": "conda-base-py"
  },
  "language_info": {
   "codemirror_mode": {
    "name": "ipython",
    "version": 3
   },
   "file_extension": ".py",
   "mimetype": "text/x-python",
   "name": "python",
   "nbconvert_exporter": "python",
   "pygments_lexer": "ipython3",
   "version": "3.12.7"
  }
 },
 "nbformat": 4,
 "nbformat_minor": 5
}
